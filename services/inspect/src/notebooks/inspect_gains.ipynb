{
 "cells": [
  {
   "cell_type": "code",
   "execution_count": null,
   "metadata": {
    "collapsed": true
   },
   "outputs": [],
   "source": [
    "import os\n",
    "\n",
    "import numpy as np\n",
    "import pylab as plt\n",
    "import pyrap.tables as pt\n",
    "from daskms.experimental.zarr import xds_from_zarr\n",
    "from h5parm import DataPack\n",
    "\n",
    "ionosphere_file = 'sim_dsa2000W_1000m_grid_dawn_30.0_1.5.h5'\n",
    "sim_base_name = 'W-64chan-20int-iono-only'\n",
    "\n",
    "[gains] = xds_from_zarr(os.path.join('output', f'{sim_base_name}', 'gains::G'))\n",
    "sim_gains = np.load(os.path.join('data', f'{sim_base_name}.npy'))\n",
    "print(\"Sim Gain Shape\", sim_gains.shape)  # time, ant, freq, pol, pol\n",
    "\n",
    "with pt.table(os.path.join('data', f\"{sim_base_name}.ms\", \"ANTENNA\")) as t:\n",
    "    ant_pos_map = dict(zip(t.getcol('STATION'), t.getcol('POSITION')))\n",
    "    ant_pos = t.getcol('POSITION')"
   ]
  },
  {
   "cell_type": "code",
   "execution_count": null,
   "outputs": [],
   "source": [
    "gains.params"
   ],
   "metadata": {
    "collapsed": false
   }
  },
  {
   "cell_type": "code",
   "execution_count": null,
   "outputs": [],
   "source": [
    "with DataPack(os.path.join('output', ionosphere_file), readonly=True) as dp:\n",
    "    print(dp)\n",
    "    sim_phase_h5, axes = dp.phase\n",
    "    sim_phase_h5 = sim_phase_h5[0, 0, :, 0, :] * 180. / np.pi\n",
    "    sim_tec_h5, _ = dp.tec\n",
    "    sim_tec_h5 = sim_tec_h5[0, 0, :, :]\n",
    "plt.imshow(sim_tec_h5[:, :], aspect='auto', cmap='jet')\n",
    "plt.colorbar()\n",
    "plt.show()"
   ],
   "metadata": {
    "collapsed": false
   }
  },
  {
   "cell_type": "code",
   "execution_count": null,
   "outputs": [],
   "source": [
    "freqs = gains.params.param_f.values\n",
    "times = gains.params.param_t.values\n",
    "phase = gains.params.values * 180 / np.pi\n",
    "sim_phase = np.angle(sim_gains) * 180 / np.pi"
   ],
   "metadata": {
    "collapsed": false
   }
  },
  {
   "cell_type": "code",
   "execution_count": null,
   "outputs": [],
   "source": [
    "plt.plot(sim_phase[0, :, 0, 0, 0])\n",
    "\n",
    "plt.title(\"Simulated Phase XX\")\n",
    "plt.xlabel(\"Ant Index\")\n",
    "plt.ylabel(\"Phase [deg]\")\n",
    "plt.show()\n",
    "\n",
    "plt.plot(phase[0, 0, :, 0, 0])\n",
    "plt.title(\"Solved Phase XX\")\n",
    "plt.xlabel(\"Ant Index\")\n",
    "plt.ylabel(\"Phase [deg]\")\n",
    "plt.show()"
   ],
   "metadata": {
    "collapsed": false
   }
  },
  {
   "cell_type": "code",
   "execution_count": null,
   "outputs": [],
   "source": [
    "plt.scatter(ant_pos[:, 0], ant_pos[:, 1], c=phase[0, 0, :, 0, 0],\n",
    "            vmin=-10.,\n",
    "            vmax=10.,\n",
    "            cmap='jet')\n",
    "\n",
    "plt.colorbar(label='Phase [deg]')\n",
    "plt.xlabel('X [m]')\n",
    "plt.ylabel('Y [m]')\n",
    "plt.title(\"Solved Phase XX\")\n",
    "\n",
    "plt.show()\n",
    "\n",
    "plt.scatter(ant_pos[:, 0], ant_pos[:, 1], c=sim_phase[0, :, 0, 0, 0], cmap='jet', vmin=-10, vmax=10)\n",
    "plt.colorbar(label='Phase [deg]')\n",
    "plt.xlabel('X [m]')\n",
    "plt.ylabel('Y [m]')\n",
    "plt.title(\"Simulated Phase XX\")\n",
    "plt.show()\n",
    "\n",
    "diff_phase = sim_phase[0, :, 0, 0, 0] - phase[0, 0, :, 0, 0]\n",
    "plt.scatter(ant_pos[:, 0], ant_pos[:, 1], c=diff_phase, cmap='jet', vmin=-3, vmax=3)\n",
    "plt.colorbar(label='Phase [deg]')\n",
    "plt.xlabel('X [m]')\n",
    "plt.ylabel('Y [m]')\n",
    "plt.title(\"Difference from ground truth Phase XX\")\n",
    "plt.show()\n",
    "\n",
    "bias = np.mean(diff_phase)\n",
    "stddev = np.std(diff_phase)\n",
    "print(f\"Bias: {bias} deg\")\n",
    "print(f\"Sigma: {stddev} deg\")\n",
    "\n",
    "plt.hist(diff_phase, bins='auto')\n",
    "plt.gca().axvline(bias, c='red', ls='solid')\n",
    "plt.gca().axvline(bias + stddev, c='red', ls='dashed')\n",
    "plt.gca().axvline(bias - stddev, c='red', ls='dashed')\n",
    "plt.xlabel(r'$\\Delta$ Phase [deg]')\n",
    "plt.show()"
   ],
   "metadata": {
    "collapsed": false
   }
  },
  {
   "cell_type": "code",
   "execution_count": null,
   "outputs": [],
   "source": [
    "print(\"RMSE:\", np.sqrt(np.mean(np.square(phase))))\n",
    "\n",
    "# all_time_freq RMSE: 3.3249414456896194\n",
    "# all_freq RMSE: 7.004088534317038\n",
    "# all_time RMSE: 17.744149825227762"
   ],
   "metadata": {
    "collapsed": false
   }
  },
  {
   "cell_type": "code",
   "execution_count": null,
   "outputs": [],
   "source": [
    "Nt = 7\n",
    "Nf = 32\n",
    "\n",
    "n_all_time_freq = 1\n",
    "n_all_freq = Nt\n",
    "n_all_time = Nf\n",
    "n_1_1 = Nf * Nt\n",
    "\n",
    "rmse_all_time_freq = 3.32\n",
    "rmse_all_freq = 7.00\n",
    "rmse_all_time = 17.74\n",
    "rmse_1_1 = np.nan\n",
    "\n",
    "dof = np.asarray([n_all_time_freq, n_all_freq, n_all_time, n_1_1])\n",
    "rmse = np.asarray([rmse_all_time_freq, rmse_all_freq, rmse_all_time, rmse_1_1])\n",
    "expected = rmse[0] * np.sqrt(dof / dof[0])\n",
    "\n",
    "plt.scatter(dof, rmse)\n",
    "plt.plot(dof, expected)\n",
    "plt.show()"
   ],
   "metadata": {
    "collapsed": false
   }
  }
 ],
 "metadata": {
  "kernelspec": {
   "display_name": "Python 3",
   "language": "python",
   "name": "python3"
  },
  "language_info": {
   "codemirror_mode": {
    "name": "ipython",
    "version": 2
   },
   "file_extension": ".py",
   "mimetype": "text/x-python",
   "name": "python",
   "nbconvert_exporter": "python",
   "pygments_lexer": "ipython2",
   "version": "2.7.6"
  }
 },
 "nbformat": 4,
 "nbformat_minor": 0
}
