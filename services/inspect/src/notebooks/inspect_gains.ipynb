{
 "cells": [
  {
   "cell_type": "code",
   "execution_count": null,
   "metadata": {
    "collapsed": true
   },
   "outputs": [],
   "source": [
    "import numpy as np\n",
    "import pylab as plt\n",
    "import pyrap.tables as pt\n",
    "from daskms.experimental.zarr import xds_from_zarr\n",
    "\n",
    "[gains] = xds_from_zarr(\"./output/W-32chan-10-5s/gains::G\")\n",
    "sim_gains = np.load(\"./data/W-32chan-10-5s-gain.npy\")\n",
    "print(\"Sim Gain Shape\", sim_gains.shape)  # time, ant, freq, pol, pol\n",
    "\n",
    "with pt.table(\"./data/W-32chan-10-5s.ms/ANTENNA\") as t:\n",
    "    ant_pos_map = dict(zip(t.getcol('STATION'), t.getcol('POSITION')))\n",
    "    ant_pos = t.getcol('POSITION')"
   ]
  },
  {
   "cell_type": "code",
   "execution_count": null,
   "outputs": [],
   "source": [
    "gains.params"
   ],
   "metadata": {
    "collapsed": false
   }
  },
  {
   "cell_type": "code",
   "execution_count": null,
   "outputs": [],
   "source": [
    "freqs = gains.params.param_f.values\n",
    "times = gains.params.param_t.values\n",
    "phase = gains.params.values * 180 / np.pi\n",
    "sim_phase = np.angle(sim_gains) * 180 / np.pi"
   ],
   "metadata": {
    "collapsed": false
   }
  },
  {
   "cell_type": "code",
   "execution_count": null,
   "outputs": [],
   "source": [
    "plt.plot(sim_phase[0, :, 0, 0, 0])\n",
    "\n",
    "plt.title(\"Simulated Phase XX\")\n",
    "plt.xlabel(\"Ant Index\")\n",
    "plt.ylabel(\"Phase [deg]\")\n",
    "plt.show()\n",
    "\n",
    "plt.plot(phase[0, 0, :, 0, 0])\n",
    "plt.title(\"Solved Phase XX\")\n",
    "plt.xlabel(\"Ant Index\")\n",
    "plt.ylabel(\"Phase [deg]\")\n",
    "plt.show()"
   ],
   "metadata": {
    "collapsed": false
   }
  },
  {
   "cell_type": "code",
   "execution_count": null,
   "outputs": [],
   "source": [
    "plt.scatter(ant_pos[:, 0], ant_pos[:, 1], c=phase[0, 0, :, 0, 0], vmin=-10, vmax=10, cmap='jet')\n",
    "\n",
    "plt.colorbar(label='Phase [deg]')\n",
    "plt.xlabel('X [m]')\n",
    "plt.ylabel('Y [m]')\n",
    "plt.title(\"Solved Phase XX\")\n",
    "\n",
    "plt.show()\n",
    "\n",
    "plt.scatter(ant_pos[:, 0], ant_pos[:, 1], c=sim_phase[0, :, 0, 0, 0], vmin=-10, vmax=10, cmap='jet')\n",
    "plt.colorbar(label='Phase [deg]')\n",
    "plt.xlabel('X [m]')\n",
    "plt.ylabel('Y [m]')\n",
    "plt.title(\"Simulated Phase XX\")\n",
    "plt.show()"
   ],
   "metadata": {
    "collapsed": false
   }
  }
 ],
 "metadata": {
  "kernelspec": {
   "display_name": "Python 3",
   "language": "python",
   "name": "python3"
  },
  "language_info": {
   "codemirror_mode": {
    "name": "ipython",
    "version": 2
   },
   "file_extension": ".py",
   "mimetype": "text/x-python",
   "name": "python",
   "nbconvert_exporter": "python",
   "pygments_lexer": "ipython2",
   "version": "2.7.6"
  }
 },
 "nbformat": 4,
 "nbformat_minor": 0
}
