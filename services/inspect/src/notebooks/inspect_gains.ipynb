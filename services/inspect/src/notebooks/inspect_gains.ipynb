{
 "cells": [
  {
   "cell_type": "code",
   "execution_count": null,
   "metadata": {
    "collapsed": true
   },
   "outputs": [],
   "source": [
    "import os\n",
    "\n",
    "import numpy as np\n",
    "import pylab as plt\n",
    "import pyrap.tables as pt\n",
    "from daskms.experimental.zarr import xds_from_zarr\n",
    "from h5parm import DataPack\n",
    "\n",
    "# Edit these\n",
    "ionosphere_file = './output/sim_dsa2000W_1000m_grid_dawn_30.0_1.5.h5'\n",
    "solutions_file = './output/W-64chan-20int-iono-only/all_freq_time/gains::G'\n",
    "ms_file = './data/W-64chan-20int-iono-only.ms'\n",
    "gains_file = './data/W-64chan-20int-iono-only.npy'\n",
    "\n",
    "\n",
    "[gains] = xds_from_zarr(solutions_file)\n",
    "sim_gains = np.load(gains_file)\n",
    "print(\"Sim Gain Shape\", sim_gains.shape, sim_gains.dtype)  # time, ant, freq, pol, pol\n",
    "\n",
    "with pt.table(os.path.join(ms_file, \"ANTENNA\")) as t:\n",
    "    ant_pos_map = dict(zip(t.getcol('STATION'), t.getcol('POSITION')))\n",
    "    ant_pos = t.getcol('POSITION')\n",
    "\n",
    "with pt.table(os.path.join(ms_file, \"SPECTRAL_WINDOW\")) as t:\n",
    "    ms_freqs =  t.getcol('CHAN_FREQ')"
   ]
  },
  {
   "cell_type": "code",
   "execution_count": null,
   "outputs": [],
   "source": [
    "gains.params"
   ],
   "metadata": {
    "collapsed": false
   }
  },
  {
   "cell_type": "code",
   "execution_count": null,
   "outputs": [],
   "source": [
    "def wrap(phi):\n",
    "    return (phi + np.pi) % (2 * np.pi) - np.pi\n",
    "\n",
    "with DataPack(ionosphere_file, readonly=True) as dp:\n",
    "    sim_phase_h5, axes = dp.phase\n",
    "    sim_phase_h5 -= sim_phase_h5[:,:,0:1,:,:]\n",
    "    sim_phase_h5 = sim_phase_h5[0, 0, :, 0, :] * 180. / np.pi\n",
    "    sim_tec_h5, _ = dp.tec\n",
    "    sim_tec_h5 -= sim_tec_h5[:,:,0:1,:]\n",
    "    sim_tec_h5 = sim_tec_h5[0, 0, :, :]\n",
    "    _, sim_times = dp.get_times(axes['time'])\n",
    "    _, sim_freqs = dp.get_freqs(axes['freq'])\n",
    "    print(dp.axes_order)\n",
    "plt.imshow(sim_tec_h5[:, :], aspect='auto', cmap='jet')\n",
    "plt.colorbar(label=r'$\\Delta$TEC [mTECU]')\n",
    "plt.xlabel('Time stamp')\n",
    "plt.ylabel('Antenna Index')\n",
    "plt.title(r'Simulated $\\Delta$ Tec Ground Truth')\n",
    "plt.show()\n",
    "\n",
    "plt.imshow(sim_phase_h5[:, :], aspect='auto', cmap='jet')\n",
    "plt.colorbar(label='Phase [deg]')\n",
    "plt.xlabel('Time stamp')\n",
    "plt.ylabel('Antenna Index')\n",
    "plt.title(f'Simulated Phase Ground Truth @ {sim_freqs[0]}')\n",
    "plt.show()\n",
    "\n",
    "\n",
    "TEC_CONV = -8.4479745e6  # Hz/mTECU\n",
    "\n",
    "# window over freq\n",
    "sim_phase_h5_over_freq = wrap(sim_tec_h5[:,:,None] * (TEC_CONV / ms_freqs)) * 180/np.pi\n",
    "plt.imshow(sim_phase_h5_over_freq[100], aspect='auto', cmap='jet')\n",
    "plt.colorbar(label='Phase [deg]')\n",
    "plt.xlabel('Channel index')\n",
    "plt.ylabel('Time stamp')\n",
    "plt.title(f'Simulated Phase Ground Truth')\n",
    "plt.show()\n",
    "\n"
   ],
   "metadata": {
    "collapsed": false
   }
  },
  {
   "cell_type": "code",
   "execution_count": null,
   "outputs": [],
   "source": [
    "freqs = gains.params.param_f.values\n",
    "times = gains.params.param_t.values\n",
    "phase = wrap(gains.params.values)\n",
    "phase -= phase[:,:,0:1,...]\n",
    "phase = wrap(phase) * 180/np.pi\n",
    "\n",
    "sim_phase = np.angle(sim_gains)\n",
    "sim_phase -= sim_phase[:,0:1,...]\n",
    "sim_phase = wrap(sim_phase) * 180 / np.pi"
   ],
   "metadata": {
    "collapsed": false
   }
  },
  {
   "cell_type": "code",
   "execution_count": null,
   "outputs": [],
   "source": [
    "plt.plot(sim_phase[0, :, 0, 0, 0])\n",
    "\n",
    "plt.title(\"Simulated Phase XX\")\n",
    "plt.xlabel(\"Ant Index\")\n",
    "plt.ylabel(\"Phase [deg]\")\n",
    "plt.show()\n",
    "\n",
    "plt.plot(phase[0, 0, :, 0, 0])\n",
    "plt.title(\"Solved Phase XX\")\n",
    "plt.xlabel(\"Ant Index\")\n",
    "plt.ylabel(\"Phase [deg]\")\n",
    "plt.show()"
   ],
   "metadata": {
    "collapsed": false
   }
  },
  {
   "cell_type": "markdown",
   "source": [
    "# What the simulation looks like"
   ],
   "metadata": {
    "collapsed": false
   }
  },
  {
   "cell_type": "code",
   "execution_count": null,
   "outputs": [],
   "source": [
    "sim_phase_mean = np.mean(sim_phase[:, :, 0, 0, 0], axis=0)\n",
    "\n",
    "vmin, vmax = np.percentile(sim_phase_mean, [5, 95])\n",
    "\n",
    "\n",
    "plt.scatter(ant_pos[:, 0], ant_pos[:, 1], c=sim_phase_mean, cmap='jet', vmin=vmin, vmax=vmax)\n",
    "plt.colorbar(label='Phase [deg]')\n",
    "plt.xlabel('X [m]')\n",
    "plt.ylabel('Y [m]')\n",
    "plt.title(\"Average Simulated Phase XX\")\n",
    "plt.show()\n",
    "\n",
    "\n",
    "\n",
    "for t in range(0, sim_phase.shape[0], sim_phase.shape[0] // 5):\n",
    "\n",
    "    plt.scatter(ant_pos[:, 0], ant_pos[:, 1], c=sim_phase[t, :, 0, 0, 0], cmap='jet', vmin=vmin, vmax=vmax)\n",
    "    plt.colorbar(label='Phase [deg]')\n",
    "    plt.xlabel('X [m]')\n",
    "    plt.ylabel('Y [m]')\n",
    "    plt.title(f\"timestep: {t} Simulated Phase XX\")\n",
    "    plt.show()"
   ],
   "metadata": {
    "collapsed": false
   }
  },
  {
   "cell_type": "code",
   "execution_count": null,
   "outputs": [],
   "source": [
    "vmin, vmax = np.percentile(sim_phase_mean, [5, 95])\n",
    "\n",
    "# Let's average the simulated phase in blocks\n",
    "blocksize = sim_phase.shape[0] // phase.shape[0]\n",
    "\n",
    "for t in range(phase.shape[0]):\n",
    "\n",
    "    plt.scatter(ant_pos[:, 0], ant_pos[:, 1], c=phase[t, 0, :, 0, 0],\n",
    "                vmin=vmin, vmax=vmax,\n",
    "                cmap='jet')\n",
    "\n",
    "    plt.colorbar(label='Phase [deg]')\n",
    "    plt.xlabel('X [m]')\n",
    "    plt.ylabel('Y [m]')\n",
    "    plt.title(f\"Timstep {t}: Solved Phase XX\")\n",
    "\n",
    "    plt.show()\n",
    "\n",
    "    start = t * blocksize\n",
    "    stop = (t+1) * blocksize\n",
    "\n",
    "    block_averaged = np.mean(sim_phase[start:stop, ...], axis=0)\n",
    "\n",
    "    plt.scatter(ant_pos[:, 0], ant_pos[:, 1], c=block_averaged[:, 0, 0, 0], cmap='jet', vmin=vmin, vmax=vmax)\n",
    "    plt.colorbar(label='Phase [deg]')\n",
    "    plt.xlabel('X [m]')\n",
    "    plt.ylabel('Y [m]')\n",
    "    plt.title(f\"Block Averaged {start} to {stop}: Simulated Phase XX\")\n",
    "    plt.show()\n",
    "\n",
    "    diff_phase = block_averaged[:, 0, 0, 0] - phase[t, 0, :, 0, 0]\n",
    "    plt.scatter(ant_pos[:, 0], ant_pos[:, 1], c=diff_phase, cmap='jet', vmin=vmin*0.1, vmax=vmax*0.1)\n",
    "    plt.colorbar(label='Phase [deg]')\n",
    "    plt.xlabel('X [m]')\n",
    "    plt.ylabel('Y [m]')\n",
    "    plt.title(f\"Block Averaged {start} to {stop}: Difference from ground truth Phase XX\")\n",
    "    plt.show()\n",
    "\n",
    "    bias = np.mean(diff_phase)\n",
    "    stddev = np.std(diff_phase)\n",
    "    print(f\"Bias: {bias} deg\")\n",
    "    print(f\"Sigma: {stddev} deg\")\n",
    "\n",
    "    plt.hist(diff_phase, bins='auto')\n",
    "    plt.gca().axvline(bias, c='red', ls='solid')\n",
    "    plt.gca().axvline(bias + stddev, c='red', ls='dashed')\n",
    "    plt.gca().axvline(bias - stddev, c='red', ls='dashed')\n",
    "    plt.xlabel(r'$\\Delta$ Phase [deg]')\n",
    "    plt.title(f\"Block Averaged {start} to {stop}: Histogram of phase errors\")\n",
    "    plt.show()"
   ],
   "metadata": {
    "collapsed": false
   }
  }
 ],
 "metadata": {
  "kernelspec": {
   "display_name": "Python 3",
   "language": "python",
   "name": "python3"
  },
  "language_info": {
   "codemirror_mode": {
    "name": "ipython",
    "version": 2
   },
   "file_extension": ".py",
   "mimetype": "text/x-python",
   "name": "python",
   "nbconvert_exporter": "python",
   "pygments_lexer": "ipython2",
   "version": "2.7.6"
  }
 },
 "nbformat": 4,
 "nbformat_minor": 0
}
