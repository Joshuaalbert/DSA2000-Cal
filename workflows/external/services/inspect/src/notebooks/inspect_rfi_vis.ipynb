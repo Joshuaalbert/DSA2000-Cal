{
 "cells": [
  {
   "cell_type": "code",
   "execution_count": null,
   "id": "initial_id",
   "metadata": {
    "collapsed": true
   },
   "outputs": [],
   "source": [
    "import pyrap.tables as pt\n",
    "import numpy as np\n",
    "import pylab as plt"
   ]
  },
  {
   "cell_type": "code",
   "execution_count": null,
   "outputs": [],
   "source": [
    "with pt.table(\"/dsa/run/visibilities.ms/\", readonly=True) as f:\n",
    "    vis = f.getcol('DATA').copy()\n",
    "\n",
    "with pt.table(\"/dsa/run/rfi_visibilities.ms/\", readonly=True) as f:\n",
    "    rfi_vis = f.getcol('DATA').copy()\n",
    "    "
   ],
   "metadata": {
    "collapsed": false
   },
   "id": "dd98c4a8a3d84504"
  },
  {
   "cell_type": "code",
   "execution_count": null,
   "outputs": [],
   "source": [
    "print(np.abs(rfi_vis[-100:]))"
   ],
   "metadata": {
    "collapsed": false
   },
   "id": "4d70ab2485a77082"
  },
  {
   "cell_type": "code",
   "execution_count": null,
   "outputs": [],
   "source": [
    "dvis = rfi_vis/vis\n",
    "dvis_amp = np.abs(dvis)\n",
    "dvis_phase = np.angle(dvis)"
   ],
   "metadata": {
    "collapsed": false
   },
   "id": "ee0c153703e190b1"
  },
  {
   "cell_type": "code",
   "execution_count": null,
   "outputs": [],
   "source": [
    "q = np.linspace(0, 100, 101)\n",
    "p_amp = np.percentile(dvis_amp, q)\n",
    "p_phase = np.percentile(dvis_phase, q) * 180/np.pi"
   ],
   "metadata": {
    "collapsed": false
   },
   "id": "e36724ea824e3e56"
  },
  {
   "cell_type": "code",
   "execution_count": null,
   "outputs": [],
   "source": [
    "plt.plot(q, p_amp)\n",
    "plt.title(\"RFI amplitude distortion percentile\")\n",
    "plt.xlabel(\"Percentile\")\n",
    "plt.ylabel(\"RFI amplitude [1]\")\n",
    "plt.show()\n",
    "\n",
    "plt.plot(q, p_phase)\n",
    "plt.title(\"RFI phase distortion percentile\")\n",
    "plt.xlabel(\"Percentile\")\n",
    "plt.ylabel(\"RFI phase [deg]\")\n",
    "plt.show()"
   ],
   "metadata": {
    "collapsed": false
   },
   "id": "a286be0b10c67798"
  }
 ],
 "metadata": {
  "kernelspec": {
   "display_name": "Python 3",
   "language": "python",
   "name": "python3"
  },
  "language_info": {
   "codemirror_mode": {
    "name": "ipython",
    "version": 2
   },
   "file_extension": ".py",
   "mimetype": "text/x-python",
   "name": "python",
   "nbconvert_exporter": "python",
   "pygments_lexer": "ipython2",
   "version": "2.7.6"
  }
 },
 "nbformat": 4,
 "nbformat_minor": 5
}
