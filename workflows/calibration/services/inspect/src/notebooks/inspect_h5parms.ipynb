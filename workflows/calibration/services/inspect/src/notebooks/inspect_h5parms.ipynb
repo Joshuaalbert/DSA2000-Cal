{
 "cells": [
  {
   "cell_type": "code",
   "execution_count": null,
   "outputs": [],
   "source": [
    "import logging\n",
    "\n",
    "import numpy as np\n",
    "from h5parm import DataPack\n",
    "\n",
    "from dsa2000_cal.gains import extract_scalar_gains\n",
    "\n",
    "logger = logging.getLogger(__name__)\n",
    "\n",
    "with DataPack(\"/dsa/run/ionosphere.h5parm\", readonly=True) as dp:\n",
    "    dp.current_solset = 'sol000'\n",
    "    if dp.axes_order != ['pol', 'dir', 'ant', 'freq', 'time']:\n",
    "        raise ValueError(f\"Expects axes order must be ['pol', 'dir', 'ant', 'freq', 'time'], got {dp.axes_order}\")\n",
    "    tec, _ = dp.tec\n",
    "    axes = dp.axes_phase\n",
    "    _, antennas = dp.get_antennas(axes['ant'])\n",
    "    _, times = dp.get_times(axes['time'])\n",
    "    _, freqs = dp.get_freqs(axes['freq'])\n",
    "    _, directions = dp.get_directions(axes['dir'])  # [num_sources]\n",
    "\n",
    "# get gains in  [num_time, num_ant, num_dir, num_freq, 2, 2]\n",
    "gains = extract_scalar_gains(h5parm=\"/dsa/run/ionosphere.h5parm\", components=['phase'])\n",
    "\n",
    "TEC_CONV = -8.4479745e6  # Hz/mTECU\n",
    "\n",
    "print(np.abs(np.angle(gains)).max()*180./np.pi)\n"
   ],
   "metadata": {
    "collapsed": false
   },
   "id": "bdcc7f183aafc74"
  },
  {
   "cell_type": "code",
   "execution_count": null,
   "outputs": [],
   "source": [
    "# get gains in  [num_time, num_ant, num_dir, num_freq, 2, 2]\n",
    "gains = extract_scalar_gains(h5parm=\"/dsa/run/beam.h5parm\", components=['amplitude'])\n",
    "print(np.abs(gains))"
   ],
   "metadata": {
    "collapsed": false
   },
   "id": "7912d989a5e1dba9"
  }
 ],
 "metadata": {
  "kernelspec": {
   "display_name": "Python 3",
   "language": "python",
   "name": "python3"
  },
  "language_info": {
   "codemirror_mode": {
    "name": "ipython",
    "version": 2
   },
   "file_extension": ".py",
   "mimetype": "text/x-python",
   "name": "python",
   "nbconvert_exporter": "python",
   "pygments_lexer": "ipython2",
   "version": "2.7.6"
  }
 },
 "nbformat": 4,
 "nbformat_minor": 5
}
