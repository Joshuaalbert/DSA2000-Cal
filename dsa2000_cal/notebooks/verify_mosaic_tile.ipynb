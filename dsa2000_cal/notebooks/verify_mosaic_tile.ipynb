{
 "cells": [
  {
   "cell_type": "code",
   "execution_count": null,
   "id": "initial_id",
   "metadata": {
    "collapsed": true
   },
   "outputs": [],
   "source": [
    "import astropy.coordinates as ac\n",
    "import astropy.units as au\n",
    "import numpy as np\n",
    "import pylab as plt\n",
    "\n",
    "\n",
    "def fibonacci_celestial_sphere(n: int) -> ac.ICRS:\n",
    "    \"\"\"\n",
    "    Generates 'n' points on the surface of a sphere using the Fibonacci sphere algorithm.\n",
    "\n",
    "    Args:\n",
    "        n (int): Number of points to generate.\n",
    "\n",
    "    Returns:\n",
    "        lon (jnp.ndarray): Array of longitudes in radians.\n",
    "        lat (jnp.ndarray): Array of latitudes in radians.\n",
    "    \"\"\"\n",
    "    # Golden angle in radians\n",
    "    golden_angle = np.pi * (3.0 - np.sqrt(5.0))  # Approximately 2.39996 radians\n",
    "\n",
    "    # Indices from 0 to n-1\n",
    "    indices = np.arange(n)\n",
    "\n",
    "    # Compute y coordinates (latitude component)\n",
    "    y = 1 - (2 * indices) / (n - 1)  # y ranges from 1 to -1\n",
    "\n",
    "    # Compute latitude in radians\n",
    "    lat = np.arcsin(y)\n",
    "\n",
    "    # Compute longitude in radians\n",
    "    theta = golden_angle * indices\n",
    "    lon = theta % (2 * np.pi)  # Ensure longitude is within [0, 2π)\n",
    "\n",
    "    return ac.ICRS(lon * au.rad, lat * au.rad)\n",
    "\n",
    "\n",
    "if __name__ == '__main__':\n",
    "    for n in [100, 1000, 10000]:\n",
    "        pointings = fibonacci_celestial_sphere(n=n)\n",
    "        plt.scatter(pointings.ra, pointings.dec, s=1)\n",
    "        plt.show()\n",
    "\n",
    "        mean_area = (4 * np.pi / n) * au.rad ** 2\n",
    "        print(n, mean_area.to('deg^2'))"
   ]
  }
 ],
 "metadata": {
  "kernelspec": {
   "display_name": "Python 3",
   "language": "python",
   "name": "python3"
  },
  "language_info": {
   "codemirror_mode": {
    "name": "ipython",
    "version": 2
   },
   "file_extension": ".py",
   "mimetype": "text/x-python",
   "name": "python",
   "nbconvert_exporter": "python",
   "pygments_lexer": "ipython2",
   "version": "2.7.6"
  }
 },
 "nbformat": 4,
 "nbformat_minor": 5
}
