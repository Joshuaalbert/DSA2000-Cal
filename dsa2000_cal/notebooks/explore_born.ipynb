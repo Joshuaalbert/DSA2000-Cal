{
 "cells": [
  {
   "cell_type": "code",
   "id": "initial_id",
   "metadata": {
    "collapsed": true,
    "ExecuteTime": {
     "end_time": "2025-02-21T17:45:49.994868Z",
     "start_time": "2025-02-21T17:45:49.985211Z"
    }
   },
   "source": [
    "from dsa2000_common.common.array_types import FloatArray\n",
    "import dataclasses\n",
    "\n",
    "from tomographic_kernel.frames import ENU\n",
    "import jax\n",
    "import jax.numpy as jnp\n",
    "import pylab as plt\n",
    "import astropy.coordinates as ac\n",
    "import astropy.time as at\n",
    "import astropy.units as au\n",
    "import astropy.constants as const\n",
    "import numpy as np\n",
    "import tensorflow_probability.substrates.jax as tfp\n",
    "\n",
    "from dsa2000_common.common.quantity_utils import quantity_to_jnp\n",
    "\n",
    "tfpd = tfp.distributions\n",
    "\n",
    "@dataclasses.dataclass(eq=False)\n",
    "class ScatteringPotential:\n",
    "    abs_amplitude: FloatArray # [n]\n",
    "    mu: FloatArray # [n] in units of wavelength\n",
    "    Sigma: FloatArray # [n, 3, 3] in units of wavelength^2\n",
    "\n",
    "    def __post_init__(self):\n",
    "        # factor the amplitude into the Sigma\n",
    "        self.Sigma_chol = jnp.linalg.cholesky(self.Sigma)\n",
    "\n",
    "    def potential(self, x: FloatArray):\n",
    "        \"\"\"\n",
    "        Evaluate the potential.\n",
    "\n",
    "        \\begin{align}\n",
    "            f(\\vec{x}) =& \\frac{1}{(2\\pi)^{3/2} \\sqrt{\\det \\Sigma}} \\exp\\left(-\\frac{1}{2} (\\vec{x} - \\mu)^T \\Sigma^{-1} (\\vec{x} - \\mu)\\right).\\label{eq:gaussian}\n",
    "        \\end{align}\n",
    "\n",
    "        Args:\n",
    "            x: [3] the position to evaluate the potential at in units of wavelength.\n",
    "\n",
    "        Returns:\n",
    "            The potential at x.\n",
    "        \"\"\"\n",
    "        return -self.abs_amplitude * tfpd.MultivariateNormalTriL(loc=self.mu, scale_tril=self.Sigma_chol).prob(x)\n",
    "\n",
    "    def spectrum(self, s: FloatArray):\n",
    "        \"\"\"\n",
    "        Evaluate the spectrum.\n",
    "\n",
    "        \\begin{align}\n",
    "            \\tilde{f}(\\vec{s}) = \\exp\\left(-i 2\\pi \\mu \\cdot\\vec{s} - 2\\pi^2 \\vec{s}^T \\Sigma \\vec{s}\\right).\n",
    "        \\end{align}\n",
    "\n",
    "        Args:\n",
    "            s: [3] the spatial frequency to evaluate the spectrum at.\n",
    "\n",
    "        Returns:\n",
    "            The spectrum at s.\n",
    "        \"\"\"\n",
    "        return -jnp.exp(-1j * 2 * jnp.pi * jnp.dot(self.mu, s) - 2 * jnp.pi**2 * jnp.dot(jnp.dot(s, self.Sigma), s) + jnp.log(self.abs_amplitude))\n",
    "\n",
    "    def power_spectrum(self, s):\n",
    "        \"\"\"\n",
    "        Evaluate the power spectrum.\n",
    "\n",
    "        \\begin{align}\n",
    "            \\left|\\tilde{\\Phi}(\\vec{s})\\right|^2 &= \\sum_i g_i^2 \\exp\\Bigl(-4\\pi^2\\, \\vec{s}^T \\Sigma_i\\, \\vec{s}\\Bigr)\n",
    "            + 2\\sum_i \\sum_{j>i} g_i g_j\\exp\\Bigl(- 2\\pi^2\\, \\vec{s}^T (\\Sigma_i + \\Sigma_j) \\vec{s}\\Bigr)\n",
    "            \\cos\\Bigl(2\\pi\\, (\\mu_i - \\mu_j) \\cdot \\vec{s}\\Bigr).\n",
    "            \\label{eq:final_phi2}\n",
    "        \\end{align}\n",
    "\n",
    "        Args:\n",
    "            s: [3] the spatial frequency to evaluate the power spectrum at.\n",
    "\n",
    "        Returns:\n",
    "            The power spectrum at s.\n",
    "        \"\"\"\n",
    "        self_term = self.abs_amplitude**2 * jnp.exp(-4 * jnp.pi**2 * jnp.dot(jnp.dot(s, self.Sigma), s)) # [n]\n",
    "\n",
    "        indicies = jnp.triu_indices(np.shape(self.mu.shape)[0], 1) # [2, n*(n-1)/2]\n",
    "        cross_term = self.abs_amplitude[indicies[0]] * self.abs_amplitude[indicies[1]] * jnp.exp(-2 * jnp.pi**2 * jnp.dot(jnp.dot(s, self.Sigma[indicies[0]] + self.Sigma[indicies[1]]), s)) * jnp.cos(2 * jnp.pi * jnp.dot(self.mu[indicies[0]] - self.mu[indicies[1]], s)) # [n*(n-1)/2]\n",
    "        return jnp.sum(self_term) + jnp.sum(cross_term)\n",
    "\n",
    "    def conv_kernel(self, l, m):\n",
    "        \"\"\"\n",
    "        Evaluate the convolution kernel is power spectrum at (l, m, sqrt(1 - l^2 - m^2)).\n",
    "\n",
    "        Args:\n",
    "            l: the l coordinate.\n",
    "            m: the m coordinate.\n",
    "\n",
    "        Returns:\n",
    "            The convolution kernel at (l, m).\n",
    "        \"\"\"\n",
    "        s = jnp.stack([l, m, jnp.sqrt(1 - l**2 - m**2)], axis=-1)\n",
    "        return self.power_spectrum(s)\n",
    "\n",
    "def build_scattering_potential(frequency: au.Quantity, amplitude: FloatArray, mu:au.Quantity, Sigma:au.Quantity):\n",
    "    wavelength = const.c / frequency\n",
    "    mu = quantity_to_jnp(mu / wavelength, '')\n",
    "    Sigma = quantity_to_jnp(Sigma / wavelength**2, '')\n",
    "    return ScatteringPotential(abs_amplitude=jnp.abs(amplitude), mu=mu, Sigma=Sigma)\n"
   ],
   "outputs": [],
   "execution_count": 53
  },
  {
   "metadata": {
    "ExecuteTime": {
     "end_time": "2025-02-21T17:45:50.943010Z",
     "start_time": "2025-02-21T17:45:50.201634Z"
    }
   },
   "cell_type": "code",
   "source": [
    "# Set up the scattering potential.\n",
    "np.random.seed(0)\n",
    "n = 2\n",
    "freq = au.Quantity(1, 'GHz')\n",
    "mu = au.Quantity(0 * np.random.normal(size=(n, 3)), 'km')\n",
    "sigma_diag = au.Quantity(np.random.uniform(low=0.01,high=0.1, size=(n, 3)), 'km')\n",
    "Sigma = sigma_diag[..., :, None] * sigma_diag[..., None, :]\n",
    "\n",
    "scattering_potential = build_scattering_potential(freq, 0.0001*jnp.ones(n), mu, Sigma)\n",
    "\n",
    "print(scattering_potential)\n",
    "print(scattering_potential.conv_kernel(0, 0))\n",
    "\n"
   ],
   "id": "a1008d7b0e521d08",
   "outputs": [
    {
     "name": "stdout",
     "output_type": "stream",
     "text": [
      "ScatteringPotential(abs_amplitude=Array([0.0001, 0.0001], dtype=float64), mu=Array([[ 0.,  0.,  0.],\n",
      "       [ 0.,  0., -0.]], dtype=float64), Sigma=Array([[[ 27133.81613146,  49593.86967969,  53148.90792641],\n",
      "        [ 49593.86967969,  90645.26338242,  97142.9894177 ],\n",
      "        [ 53148.90792641,  97142.9894177 , 104106.49206452]],\n",
      "\n",
      "       [[ 22042.89563463,  40240.65752999,  28525.95515601],\n",
      "        [ 40240.65752999,  73461.78765653,  52075.88019179],\n",
      "        [ 28525.95515601,  52075.88019179,  36915.75422081]]],      dtype=float64))\n",
      "0.0\n"
     ]
    }
   ],
   "execution_count": 54
  },
  {
   "metadata": {
    "ExecuteTime": {
     "end_time": "2025-02-21T12:04:34.451070Z",
     "start_time": "2025-02-21T12:04:34.366996Z"
    }
   },
   "cell_type": "code",
   "source": [
    "mvec = lvec = jnp.linspace(-0.0001, 0.0001, 1000)\n",
    "L, M = jnp.meshgrid(lvec, mvec, indexing='ij')\n",
    "\n",
    "l = L.flatten()\n",
    "m = M.flatten()\n",
    "\n",
    "\n",
    "conv_kernel = jax.jit(jax.vmap(scattering_potential.conv_kernel))(l, m).reshape(L.shape)\n"
   ],
   "id": "3eb84e7e5063f592",
   "outputs": [],
   "execution_count": 17
  },
  {
   "metadata": {
    "ExecuteTime": {
     "end_time": "2025-02-21T12:04:36.145229Z",
     "start_time": "2025-02-21T12:04:35.240657Z"
    }
   },
   "cell_type": "code",
   "source": [
    "plt.figure(figsize=(10, 10))\n",
    "plt.pcolormesh(L, M, conv_kernel)\n",
    "plt.colorbar()\n",
    "plt.xlabel('m')\n",
    "plt.ylabel('l')\n",
    "plt.title('Convolution kernel')\n",
    "plt.show()"
   ],
   "id": "4e6dae2a5790e911",
   "outputs": [
    {
     "data": {
      "text/plain": [
       "<Figure size 1000x1000 with 2 Axes>"
      ],
      "image/png": "[encoded data removed]"
     },
     "metadata": {},
     "output_type": "display_data"
    }
   ],
   "execution_count": 18
  },
  {
   "metadata": {
    "ExecuteTime": {
     "end_time": "2025-02-21T12:04:43.847584Z",
     "start_time": "2025-02-21T12:04:43.794654Z"
    }
   },
   "cell_type": "code",
   "source": "conv_kernel.min()",
   "id": "55094d100ec62d99",
   "outputs": [
    {
     "data": {
      "text/plain": [
       "Array(0., dtype=float64)"
      ]
     },
     "execution_count": 20,
     "metadata": {},
     "output_type": "execute_result"
    }
   ],
   "execution_count": 20
  },
  {
   "metadata": {},
   "cell_type": "code",
   "outputs": [],
   "execution_count": null,
   "source": "",
   "id": "f6c044d91bd305c1"
  }
 ],
 "metadata": {
  "kernelspec": {
   "display_name": "Python 3",
   "language": "python",
   "name": "python3"
  },
  "language_info": {
   "codemirror_mode": {
    "name": "ipython",
    "version": 2
   },
   "file_extension": ".py",
   "mimetype": "text/x-python",
   "name": "python",
   "nbconvert_exporter": "python",
   "pygments_lexer": "ipython2",
   "version": "2.7.6"
  }
 },
 "nbformat": 4,
 "nbformat_minor": 5
}
