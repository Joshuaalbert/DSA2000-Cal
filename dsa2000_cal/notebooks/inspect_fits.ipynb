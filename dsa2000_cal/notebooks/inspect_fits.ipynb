{
 "cells": [
  {
   "cell_type": "code",
   "execution_count": 1,
   "id": "initial_id",
   "metadata": {
    "collapsed": true,
    "ExecuteTime": {
     "end_time": "2023-11-30T10:38:41.055132504Z",
     "start_time": "2023-11-30T10:38:40.326632702Z"
    }
   },
   "outputs": [
    {
     "name": "stdout",
     "output_type": "stream",
     "text": [
      "SIMPLE  =                    T / conforms to FITS standard                      \n",
      "BITPIX  =                  -64 / array data type                                \n",
      "NAXIS   =                    3 / number of array dimensions                     \n",
      "NAXIS1  =                  513                                                  \n",
      "NAXIS2  =                  513                                                  \n",
      "NAXIS3  =                    3                                                  \n",
      "EXTEND  =                    T                                                  \n",
      "DATE    = '2015-05-20 12:40:12.507624'                                          \n",
      "DATE-OBS= '2015-05-20 12:40:12.507624'                                          \n",
      "ORIGIN  = 'GFOSTER '                                                            \n",
      "TELESCOP= 'VLA     '                                                            \n",
      "OBJECT  = 'beam    '                                                            \n",
      "EQUINOX =               2000.0                                                  \n",
      "CTYPE1  = 'X       '           / points right on the sky                        \n",
      "CUNIT1  = 'DEG     '                                                            \n",
      "CDELT1  =             0.011082 / degrees                                        \n",
      "CRPIX1  =                  257 / reference pixel (one relative)                 \n",
      "CRVAL1  =      0.0110828777007                                                  \n",
      "CTYPE2  = 'Y       '           / points up on the sky                           \n",
      "CUNIT2  = 'DEG     '                                                            \n",
      "CDELT2  =             0.011082 / degrees                                        \n",
      "CRPIX2  =                  257 / reference pixel (one relative)                 \n",
      "CRVAL2  =   -2.14349358381E-07                                                  \n",
      "CTYPE3  = 'FREQ    '                                                            \n",
      "CDELT3  =     30303030.3030303 / frequency step in Hz                           \n",
      "CRPIX3  =                    1 / reference frequency postion                    \n",
      "CRVAL3  =         1280000000.0 / reference frequency                            \n",
      "CTYPE4  = 'STOKES  '                                                            \n",
      "CDELT4  =                    1                                                  \n",
      "CRPIX4  =                    1                                                  \n",
      "CRVAL4  =                   -5                                                  \n",
      "GFREQ1  =         1280000000.0                                                  \n",
      "GFREQ2  =         1306120000.0                                                  \n",
      "GFREQ3  =         1333330000.0                                                  \n",
      "(3, 513, 513)\n"
     ]
    }
   ],
   "source": [
    "\n",
    "\n",
    "from astropy.io import fits\n",
    "\n",
    "fits_files = '/home/albert/data/runs/beams/JVLA-L-centred-ll_im.fits'\n",
    "\n",
    "with fits.open(fits_files) as hdul:\n",
    "    data = hdul[0].data\n",
    "    header = hdul[0].header\n",
    "    # Print the header pretty\n",
    "    print(repr(header))\n",
    "    print(data.shape)"
   ]
  },
  {
   "cell_type": "code",
   "execution_count": null,
   "outputs": [],
   "source": [],
   "metadata": {
    "collapsed": false
   },
   "id": "93582a153ed36ce"
  }
 ],
 "metadata": {
  "kernelspec": {
   "display_name": "Python 3",
   "language": "python",
   "name": "python3"
  },
  "language_info": {
   "codemirror_mode": {
    "name": "ipython",
    "version": 2
   },
   "file_extension": ".py",
   "mimetype": "text/x-python",
   "name": "python",
   "nbconvert_exporter": "python",
   "pygments_lexer": "ipython2",
   "version": "2.7.6"
  }
 },
 "nbformat": 4,
 "nbformat_minor": 5
}
